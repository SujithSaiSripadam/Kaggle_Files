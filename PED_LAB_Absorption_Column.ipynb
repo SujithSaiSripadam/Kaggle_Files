{
  "nbformat": 4,
  "nbformat_minor": 0,
  "metadata": {
    "colab": {
      "provenance": [],
      "authorship_tag": "ABX9TyPIeIMAWngyxL3r7k5R6U4o",
      "include_colab_link": true
    },
    "kernelspec": {
      "name": "python3",
      "display_name": "Python 3"
    },
    "language_info": {
      "name": "python"
    }
  },
  "cells": [
    {
      "cell_type": "markdown",
      "metadata": {
        "id": "view-in-github",
        "colab_type": "text"
      },
      "source": [
        "<a href=\"https://colab.research.google.com/github/SujithSaiSripadam/Kaggle_Files/blob/main/PED_LAB_Absorption_Column.ipynb\" target=\"_parent\"><img src=\"https://colab.research.google.com/assets/colab-badge.svg\" alt=\"Open In Colab\"/></a>"
      ]
    },
    {
      "cell_type": "code",
      "execution_count": 80,
      "metadata": {
        "id": "L0k9atDeth0Y"
      },
      "outputs": [],
      "source": [
        "import math\n",
        "import matplotlib.pyplot as plt\n",
        "import numpy as np"
      ]
    },
    {
      "cell_type": "code",
      "source": [
        "a = np.array([0.0001,0.00015, 0.0002, 0.00025, 0.0003])\n",
        "b = np.array([0.003, 0.008, 0.015, 0.023, 0.032])\n",
        "plt.plot(a, b)\n",
        "plt.grid(True)\n",
        "model = np.polyfit(a, b, 1)\n",
        "slope = (b[0]-b[3])/(a[0]-a[3])\n",
        "print(f\"Slope  = {slope}\")"
      ],
      "metadata": {
        "colab": {
          "base_uri": "https://localhost:8080/",
          "height": 447
        },
        "id": "Uixu35jntlHK",
        "outputId": "26465409-666f-4b0c-d217-0e993d32d4e8"
      },
      "execution_count": 81,
      "outputs": [
        {
          "output_type": "stream",
          "name": "stdout",
          "text": [
            "Slope  = 133.33333333333331\n"
          ]
        },
        {
          "output_type": "display_data",
          "data": {
            "text/plain": [
              "<Figure size 640x480 with 1 Axes>"
            ],
            "image/png": "[encoded data removed]"
          },
          "metadata": {}
        }
      ]
    },
    {
      "cell_type": "code",
      "source": [
        "G = float(input(\"Total Gas Flow rate in kmol/h = \"))                    #100\n",
        "X = float(input(\"kmol of Cl2/kmol of air = \"))                          #0.15\n",
        "nr = float(input(\"%Cl2 that need to be removed = \"))                    #98\n",
        "X2 = float(input(\"mole fraction of Cl2 in input water stream = \"))      #0\n",
        "densair = float(input(\"Enter density of air in lb/ft3 = \")) #0.09398\n",
        "denscl2 = float(input(\"Enter density of Cl2 in lb/ft3 = \")) #0.1809\n",
        "denswater = float(input(\"Enter density of water in lb/ft3 = \")) #62.42\n",
        "nr = nr/100\n",
        "Xf = G*X*(1-nr)\n",
        "Gs = G*(1-X)\n",
        "print(f\"Gs,inert gas flow rate  = {Gs} kmol/h\")\n",
        "print(f\"Xf, moles of Cl2 in outlet air stram  = {Xf} kmol of Cl2/ kmol of air\")"
      ],
      "metadata": {
        "colab": {
          "base_uri": "https://localhost:8080/",
          "height": 0
        },
        "id": "poFJYB06uRIZ",
        "outputId": "256e4b76-2da9-4926-94f4-5501140fbb84"
      },
      "execution_count": 82,
      "outputs": [
        {
          "output_type": "stream",
          "name": "stdout",
          "text": [
            "Total Gas Flow rate in kmol/h = 100\n",
            "kmol of Cl2/kmol of air = 0.15\n",
            "%Cl2 that need to be removed = 98\n",
            "mole fraction of Cl2 in input water stream = 0\n",
            "Enter density of air in lb/ft3 = 0.09398\n",
            "Enter density of Cl2 in lb/ft3 = 0.1809\n",
            "Enter density of water in lb/ft3 = 62.42\n",
            "Gs,inert gas flow rate  = 85.0 kmol/h\n",
            "Xf, moles of Cl2 in outlet air stram  = 0.30000000000000027 kmol of Cl2/ kmol of air\n"
          ]
        }
      ]
    },
    {
      "cell_type": "code",
      "source": [
        "y1 = X\n",
        "Y1 = y1/(1 - y1)\n",
        "Y2 = Y1*(1-nr)\n",
        "x1s  = y1/slope\n",
        "X1s = x1s/(1-x1s)"
      ],
      "metadata": {
        "id": "3QO0D6onxOR_"
      },
      "execution_count": 83,
      "outputs": []
    },
    {
      "cell_type": "code",
      "source": [
        "#Step - 2 : Minimum solvent flow rate determination\n",
        "Lsmin = Gs*(Y1-Y2)/(X1s- X2 )\n",
        "print(f\"Ls,min = {Lsmin} kmol/hr\")\n",
        "Ls = Lsmin * 1.2"
      ],
      "metadata": {
        "colab": {
          "base_uri": "https://localhost:8080/",
          "height": 0
        },
        "id": "nHmbbg8JzIqI",
        "outputId": "840602b0-9b5e-4e52-fc1e-352c6edc41e7"
      },
      "execution_count": 84,
      "outputs": [
        {
          "output_type": "stream",
          "name": "stdout",
          "text": [
            "Ls,min = 13051.966666666664 kmol/hr\n"
          ]
        }
      ]
    },
    {
      "cell_type": "code",
      "source": [
        "#Step - 3 :  Estimating actual solute concentration in solvent outlet\n",
        "X1act = (Gs*(Y1-Y2)/Lsmin)+X2\n",
        "print(f\"X1 = {X1} kmol Cl2/ kmol water\")"
      ],
      "metadata": {
        "colab": {
          "base_uri": "https://localhost:8080/",
          "height": 0
        },
        "id": "zIx49GEd0wfi",
        "outputId": "3edbf5ba-56b6-47ed-c283-2cfa41943a46"
      },
      "execution_count": 85,
      "outputs": [
        {
          "output_type": "stream",
          "name": "stdout",
          "text": [
            "X1 = 0.0011262670504317359 kmol Cl2/ kmol water\n"
          ]
        }
      ]
    },
    {
      "cell_type": "code",
      "source": [
        "#Step 4 : To find NTU : if equilibrium line is straight\n",
        "Y2s = 0\n",
        "Y1s = slope*X1act\n",
        "NTU = ((Y1-Y2)/((Y1-Y1s)-(Y2-Y2s))/math.log((Y1-Y1s)/(Y2-Y2s)))\n",
        "print(f\"NTU = {NTU}\")"
      ],
      "metadata": {
        "colab": {
          "base_uri": "https://localhost:8080/",
          "height": 0
        },
        "id": "5PhDm4iI1uy8",
        "outputId": "94764ad2-1c1c-499c-cad2-96c8b30e6342"
      },
      "execution_count": 86,
      "outputs": [
        {
          "output_type": "stream",
          "name": "stdout",
          "text": [
            "NTU = 3.781123001292316\n"
          ]
        }
      ]
    },
    {
      "cell_type": "code",
      "source": [
        "#Step 5 : Flooding velocity and operating velocity\n",
        "densgas  = X*denscl2 + (1-X)*densair\n",
        "denakg = densair*16.01846\n",
        "denclkg = denscl2*16.01846\n",
        "denswkg = 1000\n",
        "densgkg = densgas*16.01846\n",
        "Flv = float((Ls/G)*math.sqrt(densgkg/denswkg))\n",
        "print(f\"Flooding velocity = {Flv}\")"
      ],
      "metadata": {
        "colab": {
          "base_uri": "https://localhost:8080/",
          "height": 0
        },
        "id": "l4HmBTEy2nuF",
        "outputId": "1abcceca-73a8-41ef-e9d5-209c38371a40"
      },
      "execution_count": 87,
      "outputs": [
        {
          "output_type": "stream",
          "name": "stdout",
          "text": [
            "Flooding velocity = 6.484791210845564\n"
          ]
        }
      ]
    },
    {
      "cell_type": "code",
      "source": [
        "aa = 58\n",
        "e  = 0.73\n",
        "U = math.sqrt((Flv*32.2*(e**3)*62.42)/(aa*0.09398*(0.97**0.2)))\n",
        "Uop = U/2\n",
        "print(f\"Operating velocity = {Uop} ft/s\")"
      ],
      "metadata": {
        "colab": {
          "base_uri": "https://localhost:8080/",
          "height": 0
        },
        "id": "qiCf3Lw56WyM",
        "outputId": "9beee093-7fce-418a-aade-da1e2d3e3c04"
      },
      "execution_count": 88,
      "outputs": [
        {
          "output_type": "stream",
          "name": "stdout",
          "text": [
            "Operating velocity = 15.296188286795601 ft/s\n"
          ]
        }
      ]
    },
    {
      "cell_type": "code",
      "source": [
        "#Step 6: Diameter of the column\n",
        "P = float(input(\"Enter operating pressure in atm = \"))\n",
        "T = float(input(\"Enter operating Temperture in Kelvin = \"))\n",
        "R = 0.0821\n",
        "n = G\n",
        "V = n*R*T / P\n",
        "print(f\"Total gas flow rate is {V} m3/hr\")\n",
        "A = V/(Uop*1097.28)\n",
        "print(f\"Cross-sectional area of tower is {A} m2\")\n",
        "D = (math.sqrt(A*4/3.14))\n",
        "print(f\"Diameter of tower is {D} m\")"
      ],
      "metadata": {
        "colab": {
          "base_uri": "https://localhost:8080/",
          "height": 0
        },
        "id": "uMnoxlZq8Xsg",
        "outputId": "fa53d48f-7d3f-4e3c-aad2-cf64766355b1"
      },
      "execution_count": 89,
      "outputs": [
        {
          "output_type": "stream",
          "name": "stdout",
          "text": [
            "Enter operating pressure in atm = 1\n",
            "Enter operating Temperture in Kelvin = 293\n",
            "Total gas flow rate is 2405.53 m3/hr\n",
            "Cross-sectional area of tower is 0.14332108693931225 m2\n",
            "Diameter of tower is 0.4272875297077015 m\n"
          ]
        }
      ]
    },
    {
      "cell_type": "code",
      "source": [
        "#Step 7: Height of the column\n",
        "HTUog = 1.24*((((G+Gs)*0.5)**0.31)/(Ls**0.25)) + (G*slope/Ls)*(Ls**0.18)\n",
        "HTUog = HTUog*0.3048\n",
        "H = NTU * HTUog\n",
        "print(f\"HTUog is {HTUog} m\")\n",
        "Hact = H*1.2\n",
        "print(f\"Height of tower is {Hact} m\")\n",
        "KGa = G/HTUog\n",
        "print(f\"KGa is {KGa} kmol/h.m3.atm\")"
      ],
      "metadata": {
        "colab": {
          "base_uri": "https://localhost:8080/",
          "height": 0
        },
        "id": "h9P0x3R4_Na-",
        "outputId": "7af1fb3e-3986-4297-a08a-07d7afced8c5"
      },
      "execution_count": 90,
      "outputs": [
        {
          "output_type": "stream",
          "name": "stdout",
          "text": [
            "HTUog is 1.6137628029827857 m\n",
            "Height of tower is 7.322202783585805 m\n",
            "KGa is 61.96697545337257 kmol/h.m3.atm\n"
          ]
        }
      ]
    }
  ]
}